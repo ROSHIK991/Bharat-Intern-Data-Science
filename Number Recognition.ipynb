{
 "cells": [
  {
   "cell_type": "markdown",
   "id": "5f27537f",
   "metadata": {},
   "source": [
    "# DATA SCIENCE INTERN @BHARAT INTERN"
   ]
  },
  {
   "cell_type": "markdown",
   "id": "95fd610f",
   "metadata": {},
   "source": [
    "# AUTHOR : ROSHIK YADA\n",
    "## TASK 3 : Number Recognition\n",
    "### PURPOSE : Make a system which tells whether the person will be save from sinking."
   ]
  },
  {
   "cell_type": "markdown",
   "id": "c5ff7e7b",
   "metadata": {},
   "source": [
    "## About Dataset\n",
    "### The MNIST dataset is loaded using 'mnist.load_data()'."
   ]
  },
  {
   "cell_type": "code",
   "execution_count": 1,
   "id": "a11aec3c",
   "metadata": {},
   "outputs": [
    {
     "name": "stderr",
     "output_type": "stream",
     "text": [
      "C:\\Users\\YADA ROSHIK\\anaconda3\\lib\\site-packages\\scipy\\__init__.py:146: UserWarning: A NumPy version >=1.16.5 and <1.23.0 is required for this version of SciPy (detected version 1.26.1\n",
      "  warnings.warn(f\"A NumPy version >={np_minversion} and <{np_maxversion}\"\n"
     ]
    }
   ],
   "source": [
    "import numpy as np\n",
    "import tensorflow as tf\n",
    "from tensorflow import keras\n",
    "from tensorflow.keras import layers\n",
    "from tensorflow.keras.datasets import mnist\n",
    "import matplotlib.pyplot as plt"
   ]
  },
  {
   "cell_type": "code",
   "execution_count": 2,
   "id": "97049434",
   "metadata": {},
   "outputs": [],
   "source": [
    "# Load and preprocess the MNIST dataset\n",
    "(x_train, y_train), (x_test, y_test) = mnist.load_data()\n",
    "x_train, x_test = x_train / 255.0, x_test / 255.0  # Normalize pixel values to be between 0 and 1"
   ]
  },
  {
   "cell_type": "code",
   "execution_count": 3,
   "id": "15ab731d",
   "metadata": {},
   "outputs": [],
   "source": [
    "# Define the neural network model\n",
    "model = keras.Sequential([\n",
    "    keras.layers.Flatten(input_shape=(28, 28)),\n",
    "    keras.layers.Dense(128, activation='relu'),\n",
    "    keras.layers.Dropout(0.2),\n",
    "    keras.layers.Dense(10)\n",
    "])"
   ]
  },
  {
   "cell_type": "code",
   "execution_count": 4,
   "id": "9f0cf9d4",
   "metadata": {},
   "outputs": [],
   "source": [
    "# Compile the model\n",
    "model.compile(optimizer='adam',\n",
    "              loss=tf.keras.losses.SparseCategoricalCrossentropy(from_logits=True),\n",
    "              metrics=['accuracy'])"
   ]
  },
  {
   "cell_type": "code",
   "execution_count": 5,
   "id": "ecd1e39f",
   "metadata": {},
   "outputs": [
    {
     "name": "stdout",
     "output_type": "stream",
     "text": [
      "Epoch 1/5\n",
      "1875/1875 [==============================] - 15s 7ms/step - loss: 0.2981 - accuracy: 0.9129\n",
      "Epoch 2/5\n",
      "1875/1875 [==============================] - 14s 8ms/step - loss: 0.1415 - accuracy: 0.9575\n",
      "Epoch 3/5\n",
      "1875/1875 [==============================] - 13s 7ms/step - loss: 0.1060 - accuracy: 0.9676\n",
      "Epoch 4/5\n",
      "1875/1875 [==============================] - 14s 7ms/step - loss: 0.0889 - accuracy: 0.9733\n",
      "Epoch 5/5\n",
      "1875/1875 [==============================] - 14s 7ms/step - loss: 0.0742 - accuracy: 0.9765\n"
     ]
    },
    {
     "data": {
      "text/plain": [
       "<keras.src.callbacks.History at 0x23991ea2cd0>"
      ]
     },
     "execution_count": 5,
     "metadata": {},
     "output_type": "execute_result"
    }
   ],
   "source": [
    "# Train the model\n",
    "model.fit(x_train, y_train, epochs=5)"
   ]
  },
  {
   "cell_type": "code",
   "execution_count": 6,
   "id": "62f9017a",
   "metadata": {},
   "outputs": [
    {
     "name": "stdout",
     "output_type": "stream",
     "text": [
      "313/313 - 2s - loss: 0.0780 - accuracy: 0.9750 - 2s/epoch - 5ms/step\n",
      "\n",
      "Test accuracy: 97.50%\n"
     ]
    }
   ],
   "source": [
    "#Evaluate the model\n",
    "test_loss, test_acc = model.evaluate(x_test, y_test, verbose=2)\n",
    "print(f'\\nTest accuracy: {test_acc * 100:.2f}%')"
   ]
  },
  {
   "cell_type": "code",
   "execution_count": 7,
   "id": "eb92cf8c",
   "metadata": {},
   "outputs": [
    {
     "name": "stdout",
     "output_type": "stream",
     "text": [
      "313/313 [==============================] - 1s 4ms/step\n"
     ]
    }
   ],
   "source": [
    "#Make predictions on a sample image\n",
    "predictions = model.predict(x_test)\n",
    "sample_image_index = 1  #Change this index to see predictions for different images\n",
    "predicted_label = np.argmax(predictions[sample_image_index])\n",
    "true_label = y_test[sample_image_index]"
   ]
  },
  {
   "cell_type": "code",
   "execution_count": 8,
   "id": "9703cad6",
   "metadata": {},
   "outputs": [
    {
     "data": {
      "image/png": "[encoded data removed]",
      "text/plain": [
       "<Figure size 432x288 with 1 Axes>"
      ]
     },
     "metadata": {
      "needs_background": "light"
     },
     "output_type": "display_data"
    }
   ],
   "source": [
    "#Display the sample image and prediction\n",
    "plt.figure()\n",
    "plt.imshow(x_test[sample_image_index], cmap=plt.cm.binary)\n",
    "plt.title(f\"Predicted: {predicted_label}, True: {true_label}\")\n",
    "plt.show()"
   ]
  },
  {
   "cell_type": "markdown",
   "id": "dc2ff34a",
   "metadata": {},
   "source": [
    "#### The above Python code showcases the development and training of a neural network for classifying handwritten digits from the MNIST dataset using TensorFlow and Keras. First, essential libraries are imported, including NumPy for numerical operations, TensorFlow for deep learning, and Matplotlib for data visualization.\n",
    "\n",
    "#### The MNIST dataset is loaded and preprocessed, with images normalized to values between 0 and 1. The neural network model is constructed, featuring a flattened input layer, a hidden dense layer with 128 units and ReLU activation, a dropout layer to reduce overfitting, and an output dense layer with 10 units for classifying digits.\n",
    "\n",
    "#### The model is compiled with the Adam optimizer and Sparse Categorical Crossentropy loss, making it suitable for multi-class classification. It is then trained on the training data for five epochs.\n",
    "\n",
    "#### The model's performance is evaluated on the test data, and the test accuracy is printed to the console. Additionally, the code allows making predictions on a sample image and visually displaying the predicted label alongside the true label using Matplotlib."
   ]
  }
 ],
 "metadata": {
  "kernelspec": {
   "display_name": "Python 3 (ipykernel)",
   "language": "python",
   "name": "python3"
  },
  "language_info": {
   "codemirror_mode": {
    "name": "ipython",
    "version": 3
   },
   "file_extension": ".py",
   "mimetype": "text/x-python",
   "name": "python",
   "nbconvert_exporter": "python",
   "pygments_lexer": "ipython3",
   "version": "3.9.12"
  }
 },
 "nbformat": 4,
 "nbformat_minor": 5
}
