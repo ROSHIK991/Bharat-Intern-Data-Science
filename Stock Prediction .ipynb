{
 "cells": [
  {
   "cell_type": "markdown",
   "id": "5a412001",
   "metadata": {},
   "source": [
    "# DATA SCIENCE INTERN @BHARAT INTERN"
   ]
  },
  {
   "cell_type": "markdown",
   "id": "74114a56",
   "metadata": {},
   "source": [
    "## AUTHOR : ROSHIK YADA\n",
    "## TASK 1 : STOCK PREDICTION\n",
    "### PURPOSE : Predicting the stock price of a company using Long Short-Term Memory (LSTM)"
   ]
  },
  {
   "cell_type": "markdown",
   "id": "e7fb3d7c",
   "metadata": {},
   "source": [
    "### Dataset\n",
    "#### In this dataset it contains historical data about Google's stock prices and various related attributes. This dataset has 14 columns, each representing a specific piece of information, and there are 1257 rows, with each row containing the corresponding values for those attributes. Essentially, it's a structured dataset with information about Google's stock performance and related metrics over a period of time.\n",
    "#### "
   ]
  },
  {
   "cell_type": "code",
   "execution_count": 1,
   "id": "920aae47",
   "metadata": {},
   "outputs": [
    {
     "name": "stderr",
     "output_type": "stream",
     "text": [
      "C:\\Users\\YADA ROSHIK\\anaconda3\\lib\\site-packages\\scipy\\__init__.py:146: UserWarning: A NumPy version >=1.16.5 and <1.23.0 is required for this version of SciPy (detected version 1.26.1\n",
      "  warnings.warn(f\"A NumPy version >={np_minversion} and <{np_maxversion}\"\n"
     ]
    }
   ],
   "source": [
    "#import Libraries\n",
    "import numpy as np # For linear algebra\n",
    "import pandas as pd # Data preprocessing\n",
    "import matplotlib.pyplot as plt # Data visualization library\n",
    "import seaborn as sns # Data visualization library\n",
    "%matplotlib inline\n",
    "#To ignore warnings\n",
    "import tensorflow as tf\n",
    "import warnings\n",
    "warnings.filterwarnings('ignore')  \n",
    "from sklearn.preprocessing import MinMaxScaler # For Normalization\n",
    "from keras.models import Sequential\n",
    "from keras.layers import Dense, Dropout, LSTM, Bidirectional"
   ]
  },
  {
   "cell_type": "code",
   "execution_count": 2,
   "id": "f0196610",
   "metadata": {},
   "outputs": [],
   "source": [
    "#Load data\n",
    "df=pd.read_csv('GOOG.csv')"
   ]
  },
  {
   "cell_type": "code",
   "execution_count": 3,
   "id": "b2c540ab",
   "metadata": {},
   "outputs": [
    {
     "data": {
      "text/html": [
       "<div>\n",
       "<style scoped>\n",
       "    .dataframe tbody tr th:only-of-type {\n",
       "        vertical-align: middle;\n",
       "    }\n",
       "\n",
       "    .dataframe tbody tr th {\n",
       "        vertical-align: top;\n",
       "    }\n",
       "\n",
       "    .dataframe thead th {\n",
       "        text-align: right;\n",
       "    }\n",
       "</style>\n",
       "<table border=\"1\" class=\"dataframe\">\n",
       "  <thead>\n",
       "    <tr style=\"text-align: right;\">\n",
       "      <th></th>\n",
       "      <th>symbol</th>\n",
       "      <th>date</th>\n",
       "      <th>close</th>\n",
       "      <th>high</th>\n",
       "      <th>low</th>\n",
       "      <th>open</th>\n",
       "      <th>volume</th>\n",
       "      <th>adjClose</th>\n",
       "      <th>adjHigh</th>\n",
       "      <th>adjLow</th>\n",
       "      <th>adjOpen</th>\n",
       "      <th>adjVolume</th>\n",
       "      <th>divCash</th>\n",
       "      <th>splitFactor</th>\n",
       "    </tr>\n",
       "  </thead>\n",
       "  <tbody>\n",
       "    <tr>\n",
       "      <th>0</th>\n",
       "      <td>GOOG</td>\n",
       "      <td>2016-06-14 00:00:00+00:00</td>\n",
       "      <td>718.27</td>\n",
       "      <td>722.47</td>\n",
       "      <td>713.1200</td>\n",
       "      <td>716.48</td>\n",
       "      <td>1306065</td>\n",
       "      <td>718.27</td>\n",
       "      <td>722.47</td>\n",
       "      <td>713.1200</td>\n",
       "      <td>716.48</td>\n",
       "      <td>1306065</td>\n",
       "      <td>0.0</td>\n",
       "      <td>1.0</td>\n",
       "    </tr>\n",
       "    <tr>\n",
       "      <th>1</th>\n",
       "      <td>GOOG</td>\n",
       "      <td>2016-06-15 00:00:00+00:00</td>\n",
       "      <td>718.92</td>\n",
       "      <td>722.98</td>\n",
       "      <td>717.3100</td>\n",
       "      <td>719.00</td>\n",
       "      <td>1214517</td>\n",
       "      <td>718.92</td>\n",
       "      <td>722.98</td>\n",
       "      <td>717.3100</td>\n",
       "      <td>719.00</td>\n",
       "      <td>1214517</td>\n",
       "      <td>0.0</td>\n",
       "      <td>1.0</td>\n",
       "    </tr>\n",
       "    <tr>\n",
       "      <th>2</th>\n",
       "      <td>GOOG</td>\n",
       "      <td>2016-06-16 00:00:00+00:00</td>\n",
       "      <td>710.36</td>\n",
       "      <td>716.65</td>\n",
       "      <td>703.2600</td>\n",
       "      <td>714.91</td>\n",
       "      <td>1982471</td>\n",
       "      <td>710.36</td>\n",
       "      <td>716.65</td>\n",
       "      <td>703.2600</td>\n",
       "      <td>714.91</td>\n",
       "      <td>1982471</td>\n",
       "      <td>0.0</td>\n",
       "      <td>1.0</td>\n",
       "    </tr>\n",
       "    <tr>\n",
       "      <th>3</th>\n",
       "      <td>GOOG</td>\n",
       "      <td>2016-06-17 00:00:00+00:00</td>\n",
       "      <td>691.72</td>\n",
       "      <td>708.82</td>\n",
       "      <td>688.4515</td>\n",
       "      <td>708.65</td>\n",
       "      <td>3402357</td>\n",
       "      <td>691.72</td>\n",
       "      <td>708.82</td>\n",
       "      <td>688.4515</td>\n",
       "      <td>708.65</td>\n",
       "      <td>3402357</td>\n",
       "      <td>0.0</td>\n",
       "      <td>1.0</td>\n",
       "    </tr>\n",
       "    <tr>\n",
       "      <th>4</th>\n",
       "      <td>GOOG</td>\n",
       "      <td>2016-06-20 00:00:00+00:00</td>\n",
       "      <td>693.71</td>\n",
       "      <td>702.48</td>\n",
       "      <td>693.4100</td>\n",
       "      <td>698.77</td>\n",
       "      <td>2082538</td>\n",
       "      <td>693.71</td>\n",
       "      <td>702.48</td>\n",
       "      <td>693.4100</td>\n",
       "      <td>698.77</td>\n",
       "      <td>2082538</td>\n",
       "      <td>0.0</td>\n",
       "      <td>1.0</td>\n",
       "    </tr>\n",
       "  </tbody>\n",
       "</table>\n",
       "</div>"
      ],
      "text/plain": [
       "  symbol                       date   close    high       low    open  \\\n",
       "0   GOOG  2016-06-14 00:00:00+00:00  718.27  722.47  713.1200  716.48   \n",
       "1   GOOG  2016-06-15 00:00:00+00:00  718.92  722.98  717.3100  719.00   \n",
       "2   GOOG  2016-06-16 00:00:00+00:00  710.36  716.65  703.2600  714.91   \n",
       "3   GOOG  2016-06-17 00:00:00+00:00  691.72  708.82  688.4515  708.65   \n",
       "4   GOOG  2016-06-20 00:00:00+00:00  693.71  702.48  693.4100  698.77   \n",
       "\n",
       "    volume  adjClose  adjHigh    adjLow  adjOpen  adjVolume  divCash  \\\n",
       "0  1306065    718.27   722.47  713.1200   716.48    1306065      0.0   \n",
       "1  1214517    718.92   722.98  717.3100   719.00    1214517      0.0   \n",
       "2  1982471    710.36   716.65  703.2600   714.91    1982471      0.0   \n",
       "3  3402357    691.72   708.82  688.4515   708.65    3402357      0.0   \n",
       "4  2082538    693.71   702.48  693.4100   698.77    2082538      0.0   \n",
       "\n",
       "   splitFactor  \n",
       "0          1.0  \n",
       "1          1.0  \n",
       "2          1.0  \n",
       "3          1.0  \n",
       "4          1.0  "
      ]
     },
     "execution_count": 3,
     "metadata": {},
     "output_type": "execute_result"
    }
   ],
   "source": [
    "#default first five rows\n",
    "df.head()"
   ]
  },
  {
   "cell_type": "code",
   "execution_count": 4,
   "id": "c6f3f9fa",
   "metadata": {},
   "outputs": [
    {
     "data": {
      "text/html": [
       "<div>\n",
       "<style scoped>\n",
       "    .dataframe tbody tr th:only-of-type {\n",
       "        vertical-align: middle;\n",
       "    }\n",
       "\n",
       "    .dataframe tbody tr th {\n",
       "        vertical-align: top;\n",
       "    }\n",
       "\n",
       "    .dataframe thead th {\n",
       "        text-align: right;\n",
       "    }\n",
       "</style>\n",
       "<table border=\"1\" class=\"dataframe\">\n",
       "  <thead>\n",
       "    <tr style=\"text-align: right;\">\n",
       "      <th></th>\n",
       "      <th>symbol</th>\n",
       "      <th>date</th>\n",
       "      <th>close</th>\n",
       "      <th>high</th>\n",
       "      <th>low</th>\n",
       "      <th>open</th>\n",
       "      <th>volume</th>\n",
       "      <th>adjClose</th>\n",
       "      <th>adjHigh</th>\n",
       "      <th>adjLow</th>\n",
       "      <th>adjOpen</th>\n",
       "      <th>adjVolume</th>\n",
       "      <th>divCash</th>\n",
       "      <th>splitFactor</th>\n",
       "    </tr>\n",
       "  </thead>\n",
       "  <tbody>\n",
       "    <tr>\n",
       "      <th>1253</th>\n",
       "      <td>GOOG</td>\n",
       "      <td>2021-06-07 00:00:00+00:00</td>\n",
       "      <td>2466.09</td>\n",
       "      <td>2468.000</td>\n",
       "      <td>2441.0725</td>\n",
       "      <td>2451.32</td>\n",
       "      <td>1192453</td>\n",
       "      <td>2466.09</td>\n",
       "      <td>2468.000</td>\n",
       "      <td>2441.0725</td>\n",
       "      <td>2451.32</td>\n",
       "      <td>1192453</td>\n",
       "      <td>0.0</td>\n",
       "      <td>1.0</td>\n",
       "    </tr>\n",
       "    <tr>\n",
       "      <th>1254</th>\n",
       "      <td>GOOG</td>\n",
       "      <td>2021-06-08 00:00:00+00:00</td>\n",
       "      <td>2482.85</td>\n",
       "      <td>2494.495</td>\n",
       "      <td>2468.2400</td>\n",
       "      <td>2479.90</td>\n",
       "      <td>1253253</td>\n",
       "      <td>2482.85</td>\n",
       "      <td>2494.495</td>\n",
       "      <td>2468.2400</td>\n",
       "      <td>2479.90</td>\n",
       "      <td>1253253</td>\n",
       "      <td>0.0</td>\n",
       "      <td>1.0</td>\n",
       "    </tr>\n",
       "    <tr>\n",
       "      <th>1255</th>\n",
       "      <td>GOOG</td>\n",
       "      <td>2021-06-09 00:00:00+00:00</td>\n",
       "      <td>2491.40</td>\n",
       "      <td>2505.000</td>\n",
       "      <td>2487.3300</td>\n",
       "      <td>2499.50</td>\n",
       "      <td>1006337</td>\n",
       "      <td>2491.40</td>\n",
       "      <td>2505.000</td>\n",
       "      <td>2487.3300</td>\n",
       "      <td>2499.50</td>\n",
       "      <td>1006337</td>\n",
       "      <td>0.0</td>\n",
       "      <td>1.0</td>\n",
       "    </tr>\n",
       "    <tr>\n",
       "      <th>1256</th>\n",
       "      <td>GOOG</td>\n",
       "      <td>2021-06-10 00:00:00+00:00</td>\n",
       "      <td>2521.60</td>\n",
       "      <td>2523.260</td>\n",
       "      <td>2494.0000</td>\n",
       "      <td>2494.01</td>\n",
       "      <td>1561733</td>\n",
       "      <td>2521.60</td>\n",
       "      <td>2523.260</td>\n",
       "      <td>2494.0000</td>\n",
       "      <td>2494.01</td>\n",
       "      <td>1561733</td>\n",
       "      <td>0.0</td>\n",
       "      <td>1.0</td>\n",
       "    </tr>\n",
       "    <tr>\n",
       "      <th>1257</th>\n",
       "      <td>GOOG</td>\n",
       "      <td>2021-06-11 00:00:00+00:00</td>\n",
       "      <td>2513.93</td>\n",
       "      <td>2526.990</td>\n",
       "      <td>2498.2900</td>\n",
       "      <td>2524.92</td>\n",
       "      <td>1262309</td>\n",
       "      <td>2513.93</td>\n",
       "      <td>2526.990</td>\n",
       "      <td>2498.2900</td>\n",
       "      <td>2524.92</td>\n",
       "      <td>1262309</td>\n",
       "      <td>0.0</td>\n",
       "      <td>1.0</td>\n",
       "    </tr>\n",
       "  </tbody>\n",
       "</table>\n",
       "</div>"
      ],
      "text/plain": [
       "     symbol                       date    close      high        low     open  \\\n",
       "1253   GOOG  2021-06-07 00:00:00+00:00  2466.09  2468.000  2441.0725  2451.32   \n",
       "1254   GOOG  2021-06-08 00:00:00+00:00  2482.85  2494.495  2468.2400  2479.90   \n",
       "1255   GOOG  2021-06-09 00:00:00+00:00  2491.40  2505.000  2487.3300  2499.50   \n",
       "1256   GOOG  2021-06-10 00:00:00+00:00  2521.60  2523.260  2494.0000  2494.01   \n",
       "1257   GOOG  2021-06-11 00:00:00+00:00  2513.93  2526.990  2498.2900  2524.92   \n",
       "\n",
       "       volume  adjClose   adjHigh     adjLow  adjOpen  adjVolume  divCash  \\\n",
       "1253  1192453   2466.09  2468.000  2441.0725  2451.32    1192453      0.0   \n",
       "1254  1253253   2482.85  2494.495  2468.2400  2479.90    1253253      0.0   \n",
       "1255  1006337   2491.40  2505.000  2487.3300  2499.50    1006337      0.0   \n",
       "1256  1561733   2521.60  2523.260  2494.0000  2494.01    1561733      0.0   \n",
       "1257  1262309   2513.93  2526.990  2498.2900  2524.92    1262309      0.0   \n",
       "\n",
       "      splitFactor  \n",
       "1253          1.0  \n",
       "1254          1.0  \n",
       "1255          1.0  \n",
       "1256          1.0  \n",
       "1257          1.0  "
      ]
     },
     "execution_count": 4,
     "metadata": {},
     "output_type": "execute_result"
    }
   ],
   "source": [
    "#Default Last 5 rows \n",
    "df.tail()"
   ]
  },
  {
   "cell_type": "code",
   "execution_count": 5,
   "id": "e6597bfe",
   "metadata": {},
   "outputs": [
    {
     "data": {
      "text/plain": [
       "Index(['symbol', 'date', 'close', 'high', 'low', 'open', 'volume', 'adjClose',\n",
       "       'adjHigh', 'adjLow', 'adjOpen', 'adjVolume', 'divCash', 'splitFactor'],\n",
       "      dtype='object')"
      ]
     },
     "execution_count": 5,
     "metadata": {},
     "output_type": "execute_result"
    }
   ],
   "source": [
    "#what are the columns in dataset\n",
    "df.columns"
   ]
  },
  {
   "cell_type": "code",
   "execution_count": 6,
   "id": "dd0469d3",
   "metadata": {},
   "outputs": [
    {
     "data": {
      "text/plain": [
       "(1258, 14)"
      ]
     },
     "execution_count": 6,
     "metadata": {},
     "output_type": "execute_result"
    }
   ],
   "source": [
    "#shape of dataset\n",
    "df.shape"
   ]
  },
  {
   "cell_type": "code",
   "execution_count": 7,
   "id": "af06fd8f",
   "metadata": {},
   "outputs": [
    {
     "data": {
      "text/plain": [
       "<bound method NDFrame.describe of      symbol                       date    close      high        low     open  \\\n",
       "0      GOOG  2016-06-14 00:00:00+00:00   718.27   722.470   713.1200   716.48   \n",
       "1      GOOG  2016-06-15 00:00:00+00:00   718.92   722.980   717.3100   719.00   \n",
       "2      GOOG  2016-06-16 00:00:00+00:00   710.36   716.650   703.2600   714.91   \n",
       "3      GOOG  2016-06-17 00:00:00+00:00   691.72   708.820   688.4515   708.65   \n",
       "4      GOOG  2016-06-20 00:00:00+00:00   693.71   702.480   693.4100   698.77   \n",
       "...     ...                        ...      ...       ...        ...      ...   \n",
       "1253   GOOG  2021-06-07 00:00:00+00:00  2466.09  2468.000  2441.0725  2451.32   \n",
       "1254   GOOG  2021-06-08 00:00:00+00:00  2482.85  2494.495  2468.2400  2479.90   \n",
       "1255   GOOG  2021-06-09 00:00:00+00:00  2491.40  2505.000  2487.3300  2499.50   \n",
       "1256   GOOG  2021-06-10 00:00:00+00:00  2521.60  2523.260  2494.0000  2494.01   \n",
       "1257   GOOG  2021-06-11 00:00:00+00:00  2513.93  2526.990  2498.2900  2524.92   \n",
       "\n",
       "       volume  adjClose   adjHigh     adjLow  adjOpen  adjVolume  divCash  \\\n",
       "0     1306065    718.27   722.470   713.1200   716.48    1306065      0.0   \n",
       "1     1214517    718.92   722.980   717.3100   719.00    1214517      0.0   \n",
       "2     1982471    710.36   716.650   703.2600   714.91    1982471      0.0   \n",
       "3     3402357    691.72   708.820   688.4515   708.65    3402357      0.0   \n",
       "4     2082538    693.71   702.480   693.4100   698.77    2082538      0.0   \n",
       "...       ...       ...       ...        ...      ...        ...      ...   \n",
       "1253  1192453   2466.09  2468.000  2441.0725  2451.32    1192453      0.0   \n",
       "1254  1253253   2482.85  2494.495  2468.2400  2479.90    1253253      0.0   \n",
       "1255  1006337   2491.40  2505.000  2487.3300  2499.50    1006337      0.0   \n",
       "1256  1561733   2521.60  2523.260  2494.0000  2494.01    1561733      0.0   \n",
       "1257  1262309   2513.93  2526.990  2498.2900  2524.92    1262309      0.0   \n",
       "\n",
       "      splitFactor  \n",
       "0             1.0  \n",
       "1             1.0  \n",
       "2             1.0  \n",
       "3             1.0  \n",
       "4             1.0  \n",
       "...           ...  \n",
       "1253          1.0  \n",
       "1254          1.0  \n",
       "1255          1.0  \n",
       "1256          1.0  \n",
       "1257          1.0  \n",
       "\n",
       "[1258 rows x 14 columns]>"
      ]
     },
     "execution_count": 7,
     "metadata": {},
     "output_type": "execute_result"
    }
   ],
   "source": [
    "#Describing the dataset\n",
    "df.describe"
   ]
  },
  {
   "cell_type": "code",
   "execution_count": 8,
   "id": "7c3dbb51",
   "metadata": {},
   "outputs": [
    {
     "name": "stdout",
     "output_type": "stream",
     "text": [
      "<class 'pandas.core.frame.DataFrame'>\n",
      "RangeIndex: 1258 entries, 0 to 1257\n",
      "Data columns (total 14 columns):\n",
      " #   Column       Non-Null Count  Dtype  \n",
      "---  ------       --------------  -----  \n",
      " 0   symbol       1258 non-null   object \n",
      " 1   date         1258 non-null   object \n",
      " 2   close        1258 non-null   float64\n",
      " 3   high         1258 non-null   float64\n",
      " 4   low          1258 non-null   float64\n",
      " 5   open         1258 non-null   float64\n",
      " 6   volume       1258 non-null   int64  \n",
      " 7   adjClose     1258 non-null   float64\n",
      " 8   adjHigh      1258 non-null   float64\n",
      " 9   adjLow       1258 non-null   float64\n",
      " 10  adjOpen      1258 non-null   float64\n",
      " 11  adjVolume    1258 non-null   int64  \n",
      " 12  divCash      1258 non-null   float64\n",
      " 13  splitFactor  1258 non-null   float64\n",
      "dtypes: float64(10), int64(2), object(2)\n",
      "memory usage: 137.7+ KB\n"
     ]
    }
   ],
   "source": [
    "#summary of data\n",
    "df.info()"
   ]
  },
  {
   "cell_type": "code",
   "execution_count": 9,
   "id": "821bf6f2",
   "metadata": {},
   "outputs": [
    {
     "data": {
      "text/plain": [
       "symbol         0\n",
       "date           0\n",
       "close          0\n",
       "high           0\n",
       "low            0\n",
       "open           0\n",
       "volume         0\n",
       "adjClose       0\n",
       "adjHigh        0\n",
       "adjLow         0\n",
       "adjOpen        0\n",
       "adjVolume      0\n",
       "divCash        0\n",
       "splitFactor    0\n",
       "dtype: int64"
      ]
     },
     "execution_count": 9,
     "metadata": {},
     "output_type": "execute_result"
    }
   ],
   "source": [
    "#Checking null values\n",
    "df.isnull().sum()"
   ]
  },
  {
   "cell_type": "code",
   "execution_count": 10,
   "id": "6e110227",
   "metadata": {},
   "outputs": [
    {
     "data": {
      "text/html": [
       "<div>\n",
       "<style scoped>\n",
       "    .dataframe tbody tr th:only-of-type {\n",
       "        vertical-align: middle;\n",
       "    }\n",
       "\n",
       "    .dataframe tbody tr th {\n",
       "        vertical-align: top;\n",
       "    }\n",
       "\n",
       "    .dataframe thead th {\n",
       "        text-align: right;\n",
       "    }\n",
       "</style>\n",
       "<table border=\"1\" class=\"dataframe\">\n",
       "  <thead>\n",
       "    <tr style=\"text-align: right;\">\n",
       "      <th></th>\n",
       "      <th>open</th>\n",
       "      <th>close</th>\n",
       "    </tr>\n",
       "    <tr>\n",
       "      <th>date</th>\n",
       "      <th></th>\n",
       "      <th></th>\n",
       "    </tr>\n",
       "  </thead>\n",
       "  <tbody>\n",
       "    <tr>\n",
       "      <th>2016-06-14</th>\n",
       "      <td>716.48</td>\n",
       "      <td>718.27</td>\n",
       "    </tr>\n",
       "    <tr>\n",
       "      <th>2016-06-15</th>\n",
       "      <td>719.00</td>\n",
       "      <td>718.92</td>\n",
       "    </tr>\n",
       "    <tr>\n",
       "      <th>2016-06-16</th>\n",
       "      <td>714.91</td>\n",
       "      <td>710.36</td>\n",
       "    </tr>\n",
       "    <tr>\n",
       "      <th>2016-06-17</th>\n",
       "      <td>708.65</td>\n",
       "      <td>691.72</td>\n",
       "    </tr>\n",
       "    <tr>\n",
       "      <th>2016-06-20</th>\n",
       "      <td>698.77</td>\n",
       "      <td>693.71</td>\n",
       "    </tr>\n",
       "    <tr>\n",
       "      <th>2016-06-21</th>\n",
       "      <td>698.40</td>\n",
       "      <td>695.94</td>\n",
       "    </tr>\n",
       "    <tr>\n",
       "      <th>2016-06-22</th>\n",
       "      <td>699.06</td>\n",
       "      <td>697.46</td>\n",
       "    </tr>\n",
       "    <tr>\n",
       "      <th>2016-06-23</th>\n",
       "      <td>697.45</td>\n",
       "      <td>701.87</td>\n",
       "    </tr>\n",
       "    <tr>\n",
       "      <th>2016-06-24</th>\n",
       "      <td>675.17</td>\n",
       "      <td>675.22</td>\n",
       "    </tr>\n",
       "    <tr>\n",
       "      <th>2016-06-27</th>\n",
       "      <td>671.00</td>\n",
       "      <td>668.26</td>\n",
       "    </tr>\n",
       "  </tbody>\n",
       "</table>\n",
       "</div>"
      ],
      "text/plain": [
       "              open   close\n",
       "date                      \n",
       "2016-06-14  716.48  718.27\n",
       "2016-06-15  719.00  718.92\n",
       "2016-06-16  714.91  710.36\n",
       "2016-06-17  708.65  691.72\n",
       "2016-06-20  698.77  693.71\n",
       "2016-06-21  698.40  695.94\n",
       "2016-06-22  699.06  697.46\n",
       "2016-06-23  697.45  701.87\n",
       "2016-06-24  675.17  675.22\n",
       "2016-06-27  671.00  668.26"
      ]
     },
     "execution_count": 10,
     "metadata": {},
     "output_type": "execute_result"
    }
   ],
   "source": [
    "df = df[['date','open','close']] #Extracting required columns\n",
    "df['date'] = pd.to_datetime(df['date'].apply(lambda x: x.split()[0])) #Converting object dtype of date column to datetime dtype\n",
    "df.set_index('date',drop=True,inplace=True) #Setting date column as index\n",
    "df.head(10)"
   ]
  },
  {
   "cell_type": "code",
   "execution_count": 11,
   "id": "ce7cf0d2",
   "metadata": {},
   "outputs": [
    {
     "data": {
      "image/png": "[encoded data removed]",
      "text/plain": [
       "<Figure size 1440x504 with 2 Axes>"
      ]
     },
     "metadata": {
      "needs_background": "light"
     },
     "output_type": "display_data"
    }
   ],
   "source": [
    "# plotting open and closing price on date index\n",
    "fig, ax =plt.subplots(1,2,figsize=(20,7))\n",
    "ax[0].plot(df['open'],label='Open',color='blue')\n",
    "ax[0].set_xlabel('Date',size=12)\n",
    "ax[0].set_ylabel('Price',size=12)\n",
    "ax[0].legend()\n",
    "\n",
    "ax[1].plot(df['close'],label='Close',color='orange')\n",
    "ax[1].set_xlabel('Date',size=12)\n",
    "ax[1].set_ylabel('Price',size=12)\n",
    "ax[1].legend()\n",
    "\n",
    "fig.show()"
   ]
  },
  {
   "cell_type": "code",
   "execution_count": 12,
   "id": "a97bf9ee",
   "metadata": {},
   "outputs": [
    {
     "data": {
      "text/html": [
       "<div>\n",
       "<style scoped>\n",
       "    .dataframe tbody tr th:only-of-type {\n",
       "        vertical-align: middle;\n",
       "    }\n",
       "\n",
       "    .dataframe tbody tr th {\n",
       "        vertical-align: top;\n",
       "    }\n",
       "\n",
       "    .dataframe thead th {\n",
       "        text-align: right;\n",
       "    }\n",
       "</style>\n",
       "<table border=\"1\" class=\"dataframe\">\n",
       "  <thead>\n",
       "    <tr style=\"text-align: right;\">\n",
       "      <th></th>\n",
       "      <th>open</th>\n",
       "      <th>close</th>\n",
       "    </tr>\n",
       "    <tr>\n",
       "      <th>date</th>\n",
       "      <th></th>\n",
       "      <th></th>\n",
       "    </tr>\n",
       "  </thead>\n",
       "  <tbody>\n",
       "    <tr>\n",
       "      <th>2016-06-14</th>\n",
       "      <td>0.024532</td>\n",
       "      <td>0.026984</td>\n",
       "    </tr>\n",
       "    <tr>\n",
       "      <th>2016-06-15</th>\n",
       "      <td>0.025891</td>\n",
       "      <td>0.027334</td>\n",
       "    </tr>\n",
       "    <tr>\n",
       "      <th>2016-06-16</th>\n",
       "      <td>0.023685</td>\n",
       "      <td>0.022716</td>\n",
       "    </tr>\n",
       "    <tr>\n",
       "      <th>2016-06-17</th>\n",
       "      <td>0.020308</td>\n",
       "      <td>0.012658</td>\n",
       "    </tr>\n",
       "    <tr>\n",
       "      <th>2016-06-20</th>\n",
       "      <td>0.014979</td>\n",
       "      <td>0.013732</td>\n",
       "    </tr>\n",
       "    <tr>\n",
       "      <th>2016-06-21</th>\n",
       "      <td>0.014779</td>\n",
       "      <td>0.014935</td>\n",
       "    </tr>\n",
       "    <tr>\n",
       "      <th>2016-06-22</th>\n",
       "      <td>0.015135</td>\n",
       "      <td>0.015755</td>\n",
       "    </tr>\n",
       "    <tr>\n",
       "      <th>2016-06-23</th>\n",
       "      <td>0.014267</td>\n",
       "      <td>0.018135</td>\n",
       "    </tr>\n",
       "    <tr>\n",
       "      <th>2016-06-24</th>\n",
       "      <td>0.002249</td>\n",
       "      <td>0.003755</td>\n",
       "    </tr>\n",
       "    <tr>\n",
       "      <th>2016-06-27</th>\n",
       "      <td>0.000000</td>\n",
       "      <td>0.000000</td>\n",
       "    </tr>\n",
       "  </tbody>\n",
       "</table>\n",
       "</div>"
      ],
      "text/plain": [
       "                open     close\n",
       "date                          \n",
       "2016-06-14  0.024532  0.026984\n",
       "2016-06-15  0.025891  0.027334\n",
       "2016-06-16  0.023685  0.022716\n",
       "2016-06-17  0.020308  0.012658\n",
       "2016-06-20  0.014979  0.013732\n",
       "2016-06-21  0.014779  0.014935\n",
       "2016-06-22  0.015135  0.015755\n",
       "2016-06-23  0.014267  0.018135\n",
       "2016-06-24  0.002249  0.003755\n",
       "2016-06-27  0.000000  0.000000"
      ]
     },
     "execution_count": 12,
     "metadata": {},
     "output_type": "execute_result"
    }
   ],
   "source": [
    "#Data preprocessing\n",
    "#Normalizing all the values of all columns using MinMaxScaler\n",
    "MMS = MinMaxScaler()\n",
    "df[df.columns] = MMS.fit_transform(df)\n",
    "df.head(10)"
   ]
  },
  {
   "cell_type": "code",
   "execution_count": 13,
   "id": "95f248d1",
   "metadata": {},
   "outputs": [
    {
     "data": {
      "text/plain": [
       "944"
      ]
     },
     "execution_count": 13,
     "metadata": {},
     "output_type": "execute_result"
    }
   ],
   "source": [
    "#Splitting the data into training and test set\n",
    "training_size = round(len(df) * 0.75) #Selecting 75% for training & 25% for testing\n",
    "training_size"
   ]
  },
  {
   "cell_type": "code",
   "execution_count": 14,
   "id": "fe029acd",
   "metadata": {},
   "outputs": [
    {
     "data": {
      "text/plain": [
       "((944, 2), (314, 2))"
      ]
     },
     "execution_count": 14,
     "metadata": {},
     "output_type": "execute_result"
    }
   ],
   "source": [
    "train_data = df[:training_size]\n",
    "test_data  = df[training_size:]\n",
    "\n",
    "train_data.shape, test_data.shape"
   ]
  },
  {
   "cell_type": "code",
   "execution_count": 15,
   "id": "b12484d6",
   "metadata": {},
   "outputs": [],
   "source": [
    "#Function to create sequence of data for training and testing\n",
    "\n",
    "def create_sequence(dataset):\n",
    "  sequences = []\n",
    "  labels = []\n",
    "\n",
    "  start_idx = 0\n",
    "\n",
    "  for stop_idx in range(50,len(dataset)): # Selecting 50 rows at a time\n",
    "    sequences.append(dataset.iloc[start_idx:stop_idx])\n",
    "    labels.append(dataset.iloc[stop_idx])\n",
    "    start_idx += 1\n",
    "  return (np.array(sequences),np.array(labels))"
   ]
  },
  {
   "cell_type": "code",
   "execution_count": 16,
   "id": "49f6c198",
   "metadata": {},
   "outputs": [
    {
     "data": {
      "text/plain": [
       "((894, 50, 2), (894, 2), (264, 50, 2), (264, 2))"
      ]
     },
     "execution_count": 16,
     "metadata": {},
     "output_type": "execute_result"
    }
   ],
   "source": [
    "train_seq, train_label = create_sequence(train_data) \n",
    "test_seq, test_label = create_sequence(test_data)\n",
    "train_seq.shape, train_label.shape, test_seq.shape, test_label.shape"
   ]
  },
  {
   "cell_type": "code",
   "execution_count": 17,
   "id": "2e902e45",
   "metadata": {},
   "outputs": [
    {
     "name": "stdout",
     "output_type": "stream",
     "text": [
      "Model: \"sequential\"\n",
      "_________________________________________________________________\n",
      " Layer (type)                Output Shape              Param #   \n",
      "=================================================================\n",
      " lstm (LSTM)                 (None, 50, 50)            10600     \n",
      "                                                                 \n",
      " dropout (Dropout)           (None, 50, 50)            0         \n",
      "                                                                 \n",
      " lstm_1 (LSTM)               (None, 50)                20200     \n",
      "                                                                 \n",
      " dense (Dense)               (None, 2)                 102       \n",
      "                                                                 \n",
      "=================================================================\n",
      "Total params: 30902 (120.71 KB)\n",
      "Trainable params: 30902 (120.71 KB)\n",
      "Non-trainable params: 0 (0.00 Byte)\n",
      "_________________________________________________________________\n"
     ]
    }
   ],
   "source": [
    "#Creating LSTM model\n",
    "#Imported Sequential from keras.models \n",
    "model = Sequential()\n",
    "\n",
    "#Importing Dense, Dropout, LSTM, Bidirectional from keras.layers \n",
    "model.add(LSTM(units=50, return_sequences=True, input_shape = (train_seq.shape[1], train_seq.shape[2])))\n",
    "model.add(Dropout(0.1)) \n",
    "model.add(LSTM(units=50))\n",
    "model.add(Dense(2))\n",
    "model.compile(loss='mean_squared_error', optimizer='adam', metrics=['mean_absolute_error'])\n",
    "\n",
    "model.summary()"
   ]
  },
  {
   "cell_type": "code",
   "execution_count": 18,
   "id": "3aa0a690",
   "metadata": {},
   "outputs": [
    {
     "name": "stdout",
     "output_type": "stream",
     "text": [
      "Epoch 1/100\n",
      "28/28 [==============================] - 10s 123ms/step - loss: 0.0089 - mean_absolute_error: 0.0661 - val_loss: 0.0156 - val_mean_absolute_error: 0.1024\n",
      "Epoch 2/100\n",
      "28/28 [==============================] - 2s 58ms/step - loss: 8.4416e-04 - mean_absolute_error: 0.0237 - val_loss: 0.0061 - val_mean_absolute_error: 0.0616\n",
      "Epoch 3/100\n",
      "28/28 [==============================] - 2s 69ms/step - loss: 4.5424e-04 - mean_absolute_error: 0.0158 - val_loss: 0.0032 - val_mean_absolute_error: 0.0436\n",
      "Epoch 4/100\n",
      "28/28 [==============================] - 2s 63ms/step - loss: 4.4960e-04 - mean_absolute_error: 0.0157 - val_loss: 0.0028 - val_mean_absolute_error: 0.0404\n",
      "Epoch 5/100\n",
      "28/28 [==============================] - 2s 61ms/step - loss: 4.1708e-04 - mean_absolute_error: 0.0150 - val_loss: 0.0043 - val_mean_absolute_error: 0.0517\n",
      "Epoch 6/100\n",
      "28/28 [==============================] - 2s 56ms/step - loss: 4.5640e-04 - mean_absolute_error: 0.0155 - val_loss: 0.0038 - val_mean_absolute_error: 0.0478\n",
      "Epoch 7/100\n",
      "28/28 [==============================] - 2s 55ms/step - loss: 4.0231e-04 - mean_absolute_error: 0.0146 - val_loss: 0.0032 - val_mean_absolute_error: 0.0439\n",
      "Epoch 8/100\n",
      "28/28 [==============================] - 2s 58ms/step - loss: 4.1259e-04 - mean_absolute_error: 0.0148 - val_loss: 0.0020 - val_mean_absolute_error: 0.0339\n",
      "Epoch 9/100\n",
      "28/28 [==============================] - 2s 56ms/step - loss: 4.5028e-04 - mean_absolute_error: 0.0154 - val_loss: 0.0021 - val_mean_absolute_error: 0.0346\n",
      "Epoch 10/100\n",
      "28/28 [==============================] - 2s 60ms/step - loss: 4.1552e-04 - mean_absolute_error: 0.0147 - val_loss: 0.0044 - val_mean_absolute_error: 0.0527\n",
      "Epoch 11/100\n",
      "28/28 [==============================] - 2s 63ms/step - loss: 3.7215e-04 - mean_absolute_error: 0.0143 - val_loss: 0.0024 - val_mean_absolute_error: 0.0371\n",
      "Epoch 12/100\n",
      "28/28 [==============================] - 2s 54ms/step - loss: 3.6765e-04 - mean_absolute_error: 0.0140 - val_loss: 0.0033 - val_mean_absolute_error: 0.0445\n",
      "Epoch 13/100\n",
      "28/28 [==============================] - 2s 58ms/step - loss: 3.5045e-04 - mean_absolute_error: 0.0137 - val_loss: 0.0023 - val_mean_absolute_error: 0.0357\n",
      "Epoch 14/100\n",
      "28/28 [==============================] - 2s 55ms/step - loss: 3.9061e-04 - mean_absolute_error: 0.0147 - val_loss: 0.0026 - val_mean_absolute_error: 0.0386\n",
      "Epoch 15/100\n",
      "28/28 [==============================] - 2s 55ms/step - loss: 3.6822e-04 - mean_absolute_error: 0.0139 - val_loss: 0.0067 - val_mean_absolute_error: 0.0676\n",
      "Epoch 16/100\n",
      "28/28 [==============================] - 2s 59ms/step - loss: 3.3402e-04 - mean_absolute_error: 0.0133 - val_loss: 0.0040 - val_mean_absolute_error: 0.0495\n",
      "Epoch 17/100\n",
      "28/28 [==============================] - 2s 54ms/step - loss: 3.1925e-04 - mean_absolute_error: 0.0133 - val_loss: 0.0039 - val_mean_absolute_error: 0.0486\n",
      "Epoch 18/100\n",
      "28/28 [==============================] - 2s 58ms/step - loss: 3.0357e-04 - mean_absolute_error: 0.0126 - val_loss: 0.0037 - val_mean_absolute_error: 0.0466\n",
      "Epoch 19/100\n",
      "28/28 [==============================] - 2s 55ms/step - loss: 2.9831e-04 - mean_absolute_error: 0.0127 - val_loss: 0.0070 - val_mean_absolute_error: 0.0681\n",
      "Epoch 20/100\n",
      "28/28 [==============================] - 2s 54ms/step - loss: 3.0177e-04 - mean_absolute_error: 0.0126 - val_loss: 0.0049 - val_mean_absolute_error: 0.0545\n",
      "Epoch 21/100\n",
      "28/28 [==============================] - 2s 59ms/step - loss: 2.8457e-04 - mean_absolute_error: 0.0125 - val_loss: 0.0074 - val_mean_absolute_error: 0.0697\n",
      "Epoch 22/100\n",
      "28/28 [==============================] - 2s 58ms/step - loss: 2.8877e-04 - mean_absolute_error: 0.0126 - val_loss: 0.0089 - val_mean_absolute_error: 0.0781\n",
      "Epoch 23/100\n",
      "28/28 [==============================] - 2s 55ms/step - loss: 2.9557e-04 - mean_absolute_error: 0.0125 - val_loss: 0.0080 - val_mean_absolute_error: 0.0735\n",
      "Epoch 24/100\n",
      "28/28 [==============================] - 2s 54ms/step - loss: 2.9296e-04 - mean_absolute_error: 0.0126 - val_loss: 0.0043 - val_mean_absolute_error: 0.0509\n",
      "Epoch 25/100\n",
      "28/28 [==============================] - 2s 59ms/step - loss: 2.5506e-04 - mean_absolute_error: 0.0117 - val_loss: 0.0045 - val_mean_absolute_error: 0.0525\n",
      "Epoch 26/100\n",
      "28/28 [==============================] - 2s 68ms/step - loss: 2.8589e-04 - mean_absolute_error: 0.0124 - val_loss: 0.0030 - val_mean_absolute_error: 0.0410\n",
      "Epoch 27/100\n",
      "28/28 [==============================] - 2s 58ms/step - loss: 2.5447e-04 - mean_absolute_error: 0.0118 - val_loss: 0.0045 - val_mean_absolute_error: 0.0528\n",
      "Epoch 28/100\n",
      "28/28 [==============================] - 2s 58ms/step - loss: 2.5232e-04 - mean_absolute_error: 0.0116 - val_loss: 0.0050 - val_mean_absolute_error: 0.0562\n",
      "Epoch 29/100\n",
      "28/28 [==============================] - 2s 59ms/step - loss: 2.4731e-04 - mean_absolute_error: 0.0115 - val_loss: 0.0069 - val_mean_absolute_error: 0.0686\n",
      "Epoch 30/100\n",
      "28/28 [==============================] - 2s 55ms/step - loss: 2.5256e-04 - mean_absolute_error: 0.0117 - val_loss: 0.0043 - val_mean_absolute_error: 0.0525\n",
      "Epoch 31/100\n",
      "28/28 [==============================] - 2s 54ms/step - loss: 2.5423e-04 - mean_absolute_error: 0.0117 - val_loss: 0.0040 - val_mean_absolute_error: 0.0494\n",
      "Epoch 32/100\n",
      "28/28 [==============================] - 2s 60ms/step - loss: 2.4540e-04 - mean_absolute_error: 0.0115 - val_loss: 0.0048 - val_mean_absolute_error: 0.0554\n",
      "Epoch 33/100\n",
      "28/28 [==============================] - 2s 54ms/step - loss: 2.5079e-04 - mean_absolute_error: 0.0118 - val_loss: 0.0031 - val_mean_absolute_error: 0.0417\n",
      "Epoch 34/100\n",
      "28/28 [==============================] - 2s 57ms/step - loss: 2.4582e-04 - mean_absolute_error: 0.0115 - val_loss: 0.0043 - val_mean_absolute_error: 0.0511\n",
      "Epoch 35/100\n",
      "28/28 [==============================] - 2s 57ms/step - loss: 2.3486e-04 - mean_absolute_error: 0.0112 - val_loss: 0.0019 - val_mean_absolute_error: 0.0321\n",
      "Epoch 36/100\n",
      "28/28 [==============================] - 2s 55ms/step - loss: 2.5088e-04 - mean_absolute_error: 0.0120 - val_loss: 0.0067 - val_mean_absolute_error: 0.0675\n",
      "Epoch 37/100\n",
      "28/28 [==============================] - 2s 58ms/step - loss: 2.4727e-04 - mean_absolute_error: 0.0114 - val_loss: 0.0059 - val_mean_absolute_error: 0.0636\n",
      "Epoch 38/100\n",
      "28/28 [==============================] - 2s 67ms/step - loss: 2.3822e-04 - mean_absolute_error: 0.0114 - val_loss: 0.0030 - val_mean_absolute_error: 0.0419\n",
      "Epoch 39/100\n",
      "28/28 [==============================] - 2s 63ms/step - loss: 2.0800e-04 - mean_absolute_error: 0.0106 - val_loss: 0.0041 - val_mean_absolute_error: 0.0503\n",
      "Epoch 40/100\n",
      "28/28 [==============================] - 2s 68ms/step - loss: 2.2401e-04 - mean_absolute_error: 0.0108 - val_loss: 0.0052 - val_mean_absolute_error: 0.0595\n",
      "Epoch 41/100\n",
      "28/28 [==============================] - 2s 61ms/step - loss: 2.2678e-04 - mean_absolute_error: 0.0111 - val_loss: 0.0034 - val_mean_absolute_error: 0.0459\n",
      "Epoch 42/100\n",
      "28/28 [==============================] - 2s 55ms/step - loss: 2.1512e-04 - mean_absolute_error: 0.0106 - val_loss: 0.0049 - val_mean_absolute_error: 0.0560\n",
      "Epoch 43/100\n",
      "28/28 [==============================] - 2s 55ms/step - loss: 2.1316e-04 - mean_absolute_error: 0.0105 - val_loss: 0.0062 - val_mean_absolute_error: 0.0652\n",
      "Epoch 44/100\n",
      "28/28 [==============================] - 2s 57ms/step - loss: 2.2562e-04 - mean_absolute_error: 0.0110 - val_loss: 0.0032 - val_mean_absolute_error: 0.0446\n",
      "Epoch 45/100\n",
      "28/28 [==============================] - 2s 61ms/step - loss: 2.1998e-04 - mean_absolute_error: 0.0107 - val_loss: 0.0023 - val_mean_absolute_error: 0.0361\n",
      "Epoch 46/100\n",
      "28/28 [==============================] - 2s 70ms/step - loss: 2.1768e-04 - mean_absolute_error: 0.0107 - val_loss: 0.0030 - val_mean_absolute_error: 0.0429\n",
      "Epoch 47/100\n",
      "28/28 [==============================] - 2s 58ms/step - loss: 1.9594e-04 - mean_absolute_error: 0.0102 - val_loss: 0.0018 - val_mean_absolute_error: 0.0317\n",
      "Epoch 48/100\n",
      "28/28 [==============================] - 2s 57ms/step - loss: 2.2111e-04 - mean_absolute_error: 0.0109 - val_loss: 0.0015 - val_mean_absolute_error: 0.0297\n",
      "Epoch 49/100\n"
     ]
    },
    {
     "name": "stdout",
     "output_type": "stream",
     "text": [
      "28/28 [==============================] - 2s 60ms/step - loss: 1.9955e-04 - mean_absolute_error: 0.0104 - val_loss: 0.0026 - val_mean_absolute_error: 0.0401\n",
      "Epoch 50/100\n",
      "28/28 [==============================] - 2s 55ms/step - loss: 2.0183e-04 - mean_absolute_error: 0.0106 - val_loss: 0.0035 - val_mean_absolute_error: 0.0488\n",
      "Epoch 51/100\n",
      "28/28 [==============================] - 2s 57ms/step - loss: 2.0952e-04 - mean_absolute_error: 0.0104 - val_loss: 0.0024 - val_mean_absolute_error: 0.0385\n",
      "Epoch 52/100\n",
      "28/28 [==============================] - 2s 56ms/step - loss: 1.9193e-04 - mean_absolute_error: 0.0100 - val_loss: 0.0042 - val_mean_absolute_error: 0.0537\n",
      "Epoch 53/100\n",
      "28/28 [==============================] - 2s 55ms/step - loss: 1.9898e-04 - mean_absolute_error: 0.0104 - val_loss: 0.0020 - val_mean_absolute_error: 0.0350\n",
      "Epoch 54/100\n",
      "28/28 [==============================] - 2s 55ms/step - loss: 1.9779e-04 - mean_absolute_error: 0.0102 - val_loss: 0.0010 - val_mean_absolute_error: 0.0241\n",
      "Epoch 55/100\n",
      "28/28 [==============================] - 2s 60ms/step - loss: 2.1355e-04 - mean_absolute_error: 0.0107 - val_loss: 0.0028 - val_mean_absolute_error: 0.0434\n",
      "Epoch 56/100\n",
      "28/28 [==============================] - 2s 59ms/step - loss: 2.0235e-04 - mean_absolute_error: 0.0105 - val_loss: 0.0024 - val_mean_absolute_error: 0.0396\n",
      "Epoch 57/100\n",
      "28/28 [==============================] - 2s 55ms/step - loss: 1.8836e-04 - mean_absolute_error: 0.0098 - val_loss: 0.0022 - val_mean_absolute_error: 0.0380\n",
      "Epoch 58/100\n",
      "28/28 [==============================] - 2s 59ms/step - loss: 1.8381e-04 - mean_absolute_error: 0.0098 - val_loss: 0.0019 - val_mean_absolute_error: 0.0347\n",
      "Epoch 59/100\n",
      "28/28 [==============================] - 2s 55ms/step - loss: 1.8416e-04 - mean_absolute_error: 0.0099 - val_loss: 0.0018 - val_mean_absolute_error: 0.0337\n",
      "Epoch 60/100\n",
      "28/28 [==============================] - 2s 55ms/step - loss: 1.8198e-04 - mean_absolute_error: 0.0101 - val_loss: 0.0018 - val_mean_absolute_error: 0.0344\n",
      "Epoch 61/100\n",
      "28/28 [==============================] - 2s 59ms/step - loss: 1.8495e-04 - mean_absolute_error: 0.0098 - val_loss: 0.0025 - val_mean_absolute_error: 0.0415\n",
      "Epoch 62/100\n",
      "28/28 [==============================] - 2s 55ms/step - loss: 1.7494e-04 - mean_absolute_error: 0.0096 - val_loss: 0.0023 - val_mean_absolute_error: 0.0398\n",
      "Epoch 63/100\n",
      "28/28 [==============================] - 2s 57ms/step - loss: 1.6560e-04 - mean_absolute_error: 0.0094 - val_loss: 0.0014 - val_mean_absolute_error: 0.0297\n",
      "Epoch 64/100\n",
      "28/28 [==============================] - 2s 58ms/step - loss: 1.6124e-04 - mean_absolute_error: 0.0091 - val_loss: 0.0011 - val_mean_absolute_error: 0.0253\n",
      "Epoch 65/100\n",
      "28/28 [==============================] - 2s 58ms/step - loss: 1.6472e-04 - mean_absolute_error: 0.0092 - val_loss: 0.0010 - val_mean_absolute_error: 0.0245\n",
      "Epoch 66/100\n",
      "28/28 [==============================] - 2s 58ms/step - loss: 1.8481e-04 - mean_absolute_error: 0.0099 - val_loss: 9.9566e-04 - val_mean_absolute_error: 0.0241\n",
      "Epoch 67/100\n",
      "28/28 [==============================] - 2s 54ms/step - loss: 1.6994e-04 - mean_absolute_error: 0.0094 - val_loss: 7.6028e-04 - val_mean_absolute_error: 0.0207\n",
      "Epoch 68/100\n",
      "28/28 [==============================] - 2s 58ms/step - loss: 2.0463e-04 - mean_absolute_error: 0.0104 - val_loss: 6.0895e-04 - val_mean_absolute_error: 0.0183\n",
      "Epoch 69/100\n",
      "28/28 [==============================] - 2s 56ms/step - loss: 1.5425e-04 - mean_absolute_error: 0.0090 - val_loss: 9.5829e-04 - val_mean_absolute_error: 0.0238\n",
      "Epoch 70/100\n",
      "28/28 [==============================] - 2s 62ms/step - loss: 1.6066e-04 - mean_absolute_error: 0.0093 - val_loss: 0.0014 - val_mean_absolute_error: 0.0299\n",
      "Epoch 71/100\n",
      "28/28 [==============================] - 2s 59ms/step - loss: 1.5425e-04 - mean_absolute_error: 0.0091 - val_loss: 0.0015 - val_mean_absolute_error: 0.0316\n",
      "Epoch 72/100\n",
      "28/28 [==============================] - 2s 55ms/step - loss: 1.5971e-04 - mean_absolute_error: 0.0093 - val_loss: 6.0838e-04 - val_mean_absolute_error: 0.0181\n",
      "Epoch 73/100\n",
      "28/28 [==============================] - 2s 58ms/step - loss: 1.7083e-04 - mean_absolute_error: 0.0097 - val_loss: 5.0187e-04 - val_mean_absolute_error: 0.0164\n",
      "Epoch 74/100\n",
      "28/28 [==============================] - 2s 57ms/step - loss: 1.5197e-04 - mean_absolute_error: 0.0088 - val_loss: 6.0720e-04 - val_mean_absolute_error: 0.0183\n",
      "Epoch 75/100\n",
      "28/28 [==============================] - 2s 55ms/step - loss: 1.5423e-04 - mean_absolute_error: 0.0089 - val_loss: 0.0011 - val_mean_absolute_error: 0.0247\n",
      "Epoch 76/100\n",
      "28/28 [==============================] - 2s 56ms/step - loss: 1.5406e-04 - mean_absolute_error: 0.0090 - val_loss: 5.2268e-04 - val_mean_absolute_error: 0.0169\n",
      "Epoch 77/100\n",
      "28/28 [==============================] - 2s 56ms/step - loss: 1.5588e-04 - mean_absolute_error: 0.0090 - val_loss: 0.0011 - val_mean_absolute_error: 0.0264\n",
      "Epoch 78/100\n",
      "28/28 [==============================] - 2s 62ms/step - loss: 1.5159e-04 - mean_absolute_error: 0.0089 - val_loss: 0.0013 - val_mean_absolute_error: 0.0301\n",
      "Epoch 79/100\n",
      "28/28 [==============================] - 2s 55ms/step - loss: 1.4872e-04 - mean_absolute_error: 0.0088 - val_loss: 6.9821e-04 - val_mean_absolute_error: 0.0199\n",
      "Epoch 80/100\n",
      "28/28 [==============================] - 2s 56ms/step - loss: 1.5052e-04 - mean_absolute_error: 0.0087 - val_loss: 0.0018 - val_mean_absolute_error: 0.0356\n",
      "Epoch 81/100\n",
      "28/28 [==============================] - 2s 70ms/step - loss: 1.4768e-04 - mean_absolute_error: 0.0088 - val_loss: 0.0019 - val_mean_absolute_error: 0.0354\n",
      "Epoch 82/100\n",
      "28/28 [==============================] - 2s 62ms/step - loss: 1.4725e-04 - mean_absolute_error: 0.0088 - val_loss: 5.1372e-04 - val_mean_absolute_error: 0.0167\n",
      "Epoch 83/100\n",
      "28/28 [==============================] - 2s 58ms/step - loss: 1.4650e-04 - mean_absolute_error: 0.0086 - val_loss: 7.6855e-04 - val_mean_absolute_error: 0.0211\n",
      "Epoch 84/100\n",
      "28/28 [==============================] - 2s 61ms/step - loss: 1.3484e-04 - mean_absolute_error: 0.0083 - val_loss: 0.0017 - val_mean_absolute_error: 0.0352\n",
      "Epoch 85/100\n",
      "28/28 [==============================] - 2s 56ms/step - loss: 1.7373e-04 - mean_absolute_error: 0.0096 - val_loss: 0.0016 - val_mean_absolute_error: 0.0335\n",
      "Epoch 86/100\n",
      "28/28 [==============================] - 2s 57ms/step - loss: 1.6243e-04 - mean_absolute_error: 0.0092 - val_loss: 0.0010 - val_mean_absolute_error: 0.0255\n",
      "Epoch 87/100\n",
      "28/28 [==============================] - 2s 58ms/step - loss: 1.3657e-04 - mean_absolute_error: 0.0084 - val_loss: 0.0025 - val_mean_absolute_error: 0.0441\n",
      "Epoch 88/100\n",
      "28/28 [==============================] - 1s 54ms/step - loss: 1.4431e-04 - mean_absolute_error: 0.0087 - val_loss: 8.3881e-04 - val_mean_absolute_error: 0.0226\n",
      "Epoch 89/100\n",
      "28/28 [==============================] - 2s 56ms/step - loss: 1.3612e-04 - mean_absolute_error: 0.0084 - val_loss: 6.2741e-04 - val_mean_absolute_error: 0.0192\n",
      "Epoch 90/100\n",
      "28/28 [==============================] - 2s 62ms/step - loss: 1.2018e-04 - mean_absolute_error: 0.0078 - val_loss: 6.0146e-04 - val_mean_absolute_error: 0.0183\n",
      "Epoch 91/100\n",
      "28/28 [==============================] - 2s 58ms/step - loss: 1.3286e-04 - mean_absolute_error: 0.0082 - val_loss: 8.7569e-04 - val_mean_absolute_error: 0.0234\n",
      "Epoch 92/100\n",
      "28/28 [==============================] - 2s 57ms/step - loss: 1.2850e-04 - mean_absolute_error: 0.0080 - val_loss: 9.2346e-04 - val_mean_absolute_error: 0.0242\n",
      "Epoch 93/100\n",
      "28/28 [==============================] - 2s 55ms/step - loss: 1.3102e-04 - mean_absolute_error: 0.0082 - val_loss: 4.6691e-04 - val_mean_absolute_error: 0.0160\n",
      "Epoch 94/100\n",
      "28/28 [==============================] - 2s 59ms/step - loss: 1.3488e-04 - mean_absolute_error: 0.0083 - val_loss: 4.5825e-04 - val_mean_absolute_error: 0.0159\n",
      "Epoch 95/100\n",
      "28/28 [==============================] - 2s 55ms/step - loss: 1.2146e-04 - mean_absolute_error: 0.0080 - val_loss: 8.2175e-04 - val_mean_absolute_error: 0.0225\n",
      "Epoch 96/100\n",
      "28/28 [==============================] - 2s 55ms/step - loss: 1.2949e-04 - mean_absolute_error: 0.0082 - val_loss: 4.9580e-04 - val_mean_absolute_error: 0.0169\n",
      "Epoch 97/100\n"
     ]
    },
    {
     "name": "stdout",
     "output_type": "stream",
     "text": [
      "28/28 [==============================] - 2s 55ms/step - loss: 1.1929e-04 - mean_absolute_error: 0.0078 - val_loss: 5.1124e-04 - val_mean_absolute_error: 0.0172\n",
      "Epoch 98/100\n",
      "28/28 [==============================] - 2s 60ms/step - loss: 1.3599e-04 - mean_absolute_error: 0.0084 - val_loss: 3.8764e-04 - val_mean_absolute_error: 0.0150\n",
      "Epoch 99/100\n",
      "28/28 [==============================] - 2s 59ms/step - loss: 1.3228e-04 - mean_absolute_error: 0.0083 - val_loss: 3.4940e-04 - val_mean_absolute_error: 0.0137\n",
      "Epoch 100/100\n",
      "28/28 [==============================] - 2s 56ms/step - loss: 1.2112e-04 - mean_absolute_error: 0.0079 - val_loss: 7.1223e-04 - val_mean_absolute_error: 0.0205\n"
     ]
    },
    {
     "data": {
      "text/plain": [
       "<keras.src.callbacks.History at 0x1c2e8cca6a0>"
      ]
     },
     "execution_count": 18,
     "metadata": {},
     "output_type": "execute_result"
    }
   ],
   "source": [
    "#Fitting the model by iterating the dataset over 100 times(100 epochs)\n",
    "model.fit(train_seq, train_label, epochs=100,validation_data=(test_seq, test_label), verbose=1)"
   ]
  },
  {
   "cell_type": "code",
   "execution_count": 19,
   "id": "4e73059b",
   "metadata": {},
   "outputs": [
    {
     "name": "stdout",
     "output_type": "stream",
     "text": [
      "9/9 [==============================] - 1s 16ms/step\n"
     ]
    },
    {
     "data": {
      "text/plain": [
       "array([[0.40634474, 0.40545002],\n",
       "       [0.40662298, 0.40568176],\n",
       "       [0.4023235 , 0.4013931 ],\n",
       "       [0.4041825 , 0.40323743],\n",
       "       [0.4067667 , 0.40576097]], dtype=float32)"
      ]
     },
     "execution_count": 19,
     "metadata": {},
     "output_type": "execute_result"
    }
   ],
   "source": [
    "#Predicting the values after running the model\n",
    "test_predicted = model.predict(test_seq)\n",
    "test_predicted[:5]"
   ]
  },
  {
   "cell_type": "code",
   "execution_count": 20,
   "id": "b6ac9a8f",
   "metadata": {},
   "outputs": [
    {
     "data": {
      "text/plain": [
       "array([[1424.3306, 1419.6968],\n",
       "       [1424.8464, 1420.1262],\n",
       "       [1416.8756, 1412.1779],\n",
       "       [1420.322 , 1415.5961],\n",
       "       [1425.1129, 1420.2731]], dtype=float32)"
      ]
     },
     "execution_count": 20,
     "metadata": {},
     "output_type": "execute_result"
    }
   ],
   "source": [
    "#Inversing normalization/scaling on predicted data \n",
    "test_inverse_predicted = MMS.inverse_transform(test_predicted)\n",
    "test_inverse_predicted[:5]"
   ]
  },
  {
   "cell_type": "code",
   "execution_count": 21,
   "id": "3bf9c0a7",
   "metadata": {},
   "outputs": [],
   "source": [
    "#VISUALIZING ACTUAL VS PREDICTED DATA\n",
    "# Merging actual and predicted data for better visualization\n",
    "df_merge = pd.concat([df.iloc[-264:].copy(),\n",
    "                          pd.DataFrame(test_inverse_predicted,columns=['open_predicted','close_predicted'],\n",
    "                                       index=df.iloc[-264:].index)], axis=1)"
   ]
  },
  {
   "cell_type": "code",
   "execution_count": 22,
   "id": "42c69444",
   "metadata": {},
   "outputs": [
    {
     "data": {
      "text/html": [
       "<div>\n",
       "<style scoped>\n",
       "    .dataframe tbody tr th:only-of-type {\n",
       "        vertical-align: middle;\n",
       "    }\n",
       "\n",
       "    .dataframe tbody tr th {\n",
       "        vertical-align: top;\n",
       "    }\n",
       "\n",
       "    .dataframe thead th {\n",
       "        text-align: right;\n",
       "    }\n",
       "</style>\n",
       "<table border=\"1\" class=\"dataframe\">\n",
       "  <thead>\n",
       "    <tr style=\"text-align: right;\">\n",
       "      <th></th>\n",
       "      <th>open</th>\n",
       "      <th>close</th>\n",
       "      <th>open_predicted</th>\n",
       "      <th>close_predicted</th>\n",
       "    </tr>\n",
       "    <tr>\n",
       "      <th>date</th>\n",
       "      <th></th>\n",
       "      <th></th>\n",
       "      <th></th>\n",
       "      <th></th>\n",
       "    </tr>\n",
       "  </thead>\n",
       "  <tbody>\n",
       "    <tr>\n",
       "      <th>2020-05-27</th>\n",
       "      <td>1417.25</td>\n",
       "      <td>1417.84</td>\n",
       "      <td>1424.330566</td>\n",
       "      <td>1419.696777</td>\n",
       "    </tr>\n",
       "    <tr>\n",
       "      <th>2020-05-28</th>\n",
       "      <td>1396.86</td>\n",
       "      <td>1416.73</td>\n",
       "      <td>1424.846436</td>\n",
       "      <td>1420.126221</td>\n",
       "    </tr>\n",
       "    <tr>\n",
       "      <th>2020-05-29</th>\n",
       "      <td>1416.94</td>\n",
       "      <td>1428.92</td>\n",
       "      <td>1416.875610</td>\n",
       "      <td>1412.177856</td>\n",
       "    </tr>\n",
       "    <tr>\n",
       "      <th>2020-06-01</th>\n",
       "      <td>1418.39</td>\n",
       "      <td>1431.82</td>\n",
       "      <td>1420.322021</td>\n",
       "      <td>1415.596069</td>\n",
       "    </tr>\n",
       "    <tr>\n",
       "      <th>2020-06-02</th>\n",
       "      <td>1430.55</td>\n",
       "      <td>1439.22</td>\n",
       "      <td>1425.112915</td>\n",
       "      <td>1420.273071</td>\n",
       "    </tr>\n",
       "  </tbody>\n",
       "</table>\n",
       "</div>"
      ],
      "text/plain": [
       "               open    close  open_predicted  close_predicted\n",
       "date                                                         \n",
       "2020-05-27  1417.25  1417.84     1424.330566      1419.696777\n",
       "2020-05-28  1396.86  1416.73     1424.846436      1420.126221\n",
       "2020-05-29  1416.94  1428.92     1416.875610      1412.177856\n",
       "2020-06-01  1418.39  1431.82     1420.322021      1415.596069\n",
       "2020-06-02  1430.55  1439.22     1425.112915      1420.273071"
      ]
     },
     "execution_count": 22,
     "metadata": {},
     "output_type": "execute_result"
    }
   ],
   "source": [
    "# Inversing normalization/scaling \n",
    "df_merge[['open','close']] = MMS.inverse_transform(df_merge[['open','close']])\n",
    "df_merge.head()"
   ]
  },
  {
   "cell_type": "code",
   "execution_count": 23,
   "id": "b9afb63b",
   "metadata": {},
   "outputs": [
    {
     "data": {
      "image/png": "[encoded data removed]",
      "text/plain": [
       "<Figure size 720x432 with 1 Axes>"
      ]
     },
     "metadata": {
      "needs_background": "light"
     },
     "output_type": "display_data"
    }
   ],
   "source": [
    "# plotting the actual open and predicted open prices on date index\n",
    "df_merge[['open','open_predicted']].plot(figsize=(10,6))\n",
    "plt.xticks(rotation=45)\n",
    "plt.xlabel('Date',size=12)\n",
    "plt.ylabel('Stock Price',size=12)\n",
    "plt.title('Actual vs Predicted for open price',size=14)\n",
    "plt.show()"
   ]
  },
  {
   "cell_type": "code",
   "execution_count": 24,
   "id": "9704b106",
   "metadata": {},
   "outputs": [
    {
     "data": {
      "image/png": "[encoded data removed]",
      "text/plain": [
       "<Figure size 720x432 with 1 Axes>"
      ]
     },
     "metadata": {
      "needs_background": "light"
     },
     "output_type": "display_data"
    }
   ],
   "source": [
    "# plotting the actual close and predicted close prices on date index \n",
    "df_merge[['close','close_predicted']].plot(figsize=(10,6))\n",
    "plt.xticks(rotation=45)\n",
    "plt.xlabel('Date',size=12)\n",
    "plt.ylabel('Stock Price',size=12)\n",
    "plt.title('Actual vs Predicted for close price',size=12)\n",
    "plt.show()"
   ]
  },
  {
   "cell_type": "code",
   "execution_count": 25,
   "id": "e132762a",
   "metadata": {},
   "outputs": [
    {
     "data": {
      "text/html": [
       "<div>\n",
       "<style scoped>\n",
       "    .dataframe tbody tr th:only-of-type {\n",
       "        vertical-align: middle;\n",
       "    }\n",
       "\n",
       "    .dataframe tbody tr th {\n",
       "        vertical-align: top;\n",
       "    }\n",
       "\n",
       "    .dataframe thead th {\n",
       "        text-align: right;\n",
       "    }\n",
       "</style>\n",
       "<table border=\"1\" class=\"dataframe\">\n",
       "  <thead>\n",
       "    <tr style=\"text-align: right;\">\n",
       "      <th></th>\n",
       "      <th>open</th>\n",
       "      <th>close</th>\n",
       "      <th>open_predicted</th>\n",
       "      <th>close_predicted</th>\n",
       "    </tr>\n",
       "  </thead>\n",
       "  <tbody>\n",
       "    <tr>\n",
       "      <th>2021-06-09</th>\n",
       "      <td>2499.5</td>\n",
       "      <td>2491.4</td>\n",
       "      <td>2459.033203</td>\n",
       "      <td>2432.510742</td>\n",
       "    </tr>\n",
       "    <tr>\n",
       "      <th>2021-06-10</th>\n",
       "      <td>2494.01</td>\n",
       "      <td>2521.6</td>\n",
       "      <td>2470.844482</td>\n",
       "      <td>2443.967773</td>\n",
       "    </tr>\n",
       "    <tr>\n",
       "      <th>2021-06-11</th>\n",
       "      <td>2524.92</td>\n",
       "      <td>2513.93</td>\n",
       "      <td>2482.303467</td>\n",
       "      <td>2455.431641</td>\n",
       "    </tr>\n",
       "    <tr>\n",
       "      <th>2021-06-12</th>\n",
       "      <td>NaN</td>\n",
       "      <td>NaN</td>\n",
       "      <td>NaN</td>\n",
       "      <td>NaN</td>\n",
       "    </tr>\n",
       "    <tr>\n",
       "      <th>2021-06-13</th>\n",
       "      <td>NaN</td>\n",
       "      <td>NaN</td>\n",
       "      <td>NaN</td>\n",
       "      <td>NaN</td>\n",
       "    </tr>\n",
       "    <tr>\n",
       "      <th>2021-06-14</th>\n",
       "      <td>NaN</td>\n",
       "      <td>NaN</td>\n",
       "      <td>NaN</td>\n",
       "      <td>NaN</td>\n",
       "    </tr>\n",
       "    <tr>\n",
       "      <th>2021-06-15</th>\n",
       "      <td>NaN</td>\n",
       "      <td>NaN</td>\n",
       "      <td>NaN</td>\n",
       "      <td>NaN</td>\n",
       "    </tr>\n",
       "    <tr>\n",
       "      <th>2021-06-16</th>\n",
       "      <td>NaN</td>\n",
       "      <td>NaN</td>\n",
       "      <td>NaN</td>\n",
       "      <td>NaN</td>\n",
       "    </tr>\n",
       "  </tbody>\n",
       "</table>\n",
       "</div>"
      ],
      "text/plain": [
       "               open    close open_predicted close_predicted\n",
       "2021-06-09   2499.5   2491.4    2459.033203     2432.510742\n",
       "2021-06-10  2494.01   2521.6    2470.844482     2443.967773\n",
       "2021-06-11  2524.92  2513.93    2482.303467     2455.431641\n",
       "2021-06-12      NaN      NaN            NaN             NaN\n",
       "2021-06-13      NaN      NaN            NaN             NaN\n",
       "2021-06-14      NaN      NaN            NaN             NaN\n",
       "2021-06-15      NaN      NaN            NaN             NaN\n",
       "2021-06-16      NaN      NaN            NaN             NaN"
      ]
     },
     "execution_count": 25,
     "metadata": {},
     "output_type": "execute_result"
    }
   ],
   "source": [
    "#PREDICTING UPCOMING 10 DAYS\n",
    "#Creating a dataframe and adding 10 days to existing index \n",
    "\n",
    "df_merge = df_merge.append(pd.DataFrame(columns=df_merge.columns,\n",
    "                                        index=pd.date_range(start=df_merge.index[-1], periods=11, freq='D', closed='right')))\n",
    "df_merge['2021-06-09':'2021-06-16']"
   ]
  },
  {
   "cell_type": "code",
   "execution_count": 26,
   "id": "688e915d",
   "metadata": {},
   "outputs": [],
   "source": [
    "#Creating a DataFrame and filling values of open and close column\n",
    "upcoming_prediction = pd.DataFrame(columns=['open','close'],index=df_merge.index)\n",
    "upcoming_prediction.index=pd.to_datetime(upcoming_prediction.index)"
   ]
  },
  {
   "cell_type": "code",
   "execution_count": 27,
   "id": "158f760e",
   "metadata": {},
   "outputs": [
    {
     "name": "stdout",
     "output_type": "stream",
     "text": [
      "1/1 [==============================] - 0s 33ms/step\n",
      "1/1 [==============================] - 0s 42ms/step\n",
      "1/1 [==============================] - 0s 40ms/step\n",
      "1/1 [==============================] - 0s 48ms/step\n",
      "1/1 [==============================] - 0s 29ms/step\n",
      "1/1 [==============================] - 0s 45ms/step\n",
      "1/1 [==============================] - 0s 32ms/step\n",
      "1/1 [==============================] - 0s 32ms/step\n",
      "1/1 [==============================] - 0s 32ms/step\n",
      "1/1 [==============================] - 0s 39ms/step\n"
     ]
    }
   ],
   "source": [
    "curr_seq = test_seq[-1:]\n",
    "\n",
    "for i in range(-10,0):\n",
    "  up_pred = model.predict(curr_seq)\n",
    "  upcoming_prediction.iloc[i] = up_pred\n",
    "  curr_seq = np.append(curr_seq[0][1:],up_pred,axis=0)\n",
    "  curr_seq = curr_seq.reshape(test_seq[-1:].shape)"
   ]
  },
  {
   "cell_type": "code",
   "execution_count": 28,
   "id": "04c2a629",
   "metadata": {},
   "outputs": [],
   "source": [
    "#Inversing Normalization/scaling\n",
    "upcoming_prediction[['open','close']] = MMS.inverse_transform(upcoming_prediction[['open','close']])"
   ]
  },
  {
   "cell_type": "code",
   "execution_count": 29,
   "id": "058ae6f4",
   "metadata": {},
   "outputs": [
    {
     "data": {
      "image/png": "[encoded data removed]",
      "text/plain": [
       "<Figure size 720x360 with 1 Axes>"
      ]
     },
     "metadata": {
      "needs_background": "light"
     },
     "output_type": "display_data"
    }
   ],
   "source": [
    "#Plotting Upcoming Open price on date index\n",
    "fig,ax=plt.subplots(figsize=(10,5))\n",
    "ax.plot(df_merge.loc['2021-04-01':,'open'],label='Current Open Price')\n",
    "ax.plot(upcoming_prediction.loc['2021-04-01':,'open'],label='Upcoming Open Price')\n",
    "plt.setp(ax.xaxis.get_majorticklabels(), rotation=45)\n",
    "ax.set_xlabel('Date',size=12)\n",
    "ax.set_ylabel('Stock Price',size=12)\n",
    "ax.set_title('Upcoming Open price prediction',size=12)\n",
    "ax.legend()\n",
    "fig.show()"
   ]
  },
  {
   "cell_type": "code",
   "execution_count": 30,
   "id": "c0d4e419",
   "metadata": {},
   "outputs": [
    {
     "data": {
      "image/png": "[encoded data removed]",
      "text/plain": [
       "<Figure size 720x360 with 1 Axes>"
      ]
     },
     "metadata": {
      "needs_background": "light"
     },
     "output_type": "display_data"
    }
   ],
   "source": [
    "# plotting Upcoming Close price on date index\n",
    "fig,ax=plt.subplots(figsize=(10,5))\n",
    "ax.plot(df_merge.loc['2021-04-01':,'close'],label='Current close Price')\n",
    "ax.plot(upcoming_prediction.loc['2021-04-01':,'close'],label='Upcoming close Price')\n",
    "plt.setp(ax.xaxis.get_majorticklabels(), rotation=45)\n",
    "ax.set_xlabel('Date',size=12)\n",
    "ax.set_ylabel('Stock Price',size=12)\n",
    "ax.set_title('Upcoming close price prediction',size=12)\n",
    "ax.legend()\n",
    "fig.show()"
   ]
  },
  {
   "cell_type": "markdown",
   "id": "be69a30a",
   "metadata": {},
   "source": [
    "### The above code implements a predictive model for Google's stock price using LSTM neural networks. It begins by importing necessary libraries, loading the Google stock dataset, and providing data insights. Data preprocessing involves scaling and splitting the data into training and test sets. The LSTM model is constructed with two LSTM layers, dropout, and an output layer for price predictions. Training is performed over 100 epochs. The code visualizes actual and predicted stock prices for both opening and closing values. Furthermore, it predicts stock prices for the next ten days, providing insights into potential future trends. This comprehensive approach showcases how LSTM models can be employed to analyze historical data, make predictions, and visualize results for stock price forecasting."
   ]
  }
 ],
 "metadata": {
  "kernelspec": {
   "display_name": "Python 3 (ipykernel)",
   "language": "python",
   "name": "python3"
  },
  "language_info": {
   "codemirror_mode": {
    "name": "ipython",
    "version": 3
   },
   "file_extension": ".py",
   "mimetype": "text/x-python",
   "name": "python",
   "nbconvert_exporter": "python",
   "pygments_lexer": "ipython3",
   "version": "3.9.12"
  }
 },
 "nbformat": 4,
 "nbformat_minor": 5
}
